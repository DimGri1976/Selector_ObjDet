{
  "nbformat": 4,
  "nbformat_minor": 0,
  "metadata": {
    "colab": {
      "provenance": [],
      "authorship_tag": "ABX9TyNTJSWWNMYgQw4A7OYqoDpP",
      "include_colab_link": true
    },
    "kernelspec": {
      "name": "python3",
      "display_name": "Python 3"
    },
    "language_info": {
      "name": "python"
    }
  },
  "cells": [
    {
      "cell_type": "markdown",
      "metadata": {
        "id": "view-in-github",
        "colab_type": "text"
      },
      "source": [
        "<a href=\"https://colab.research.google.com/github/Untick/Selector_ObjDet/blob/ArkhipovAS-folder/ArkhipovAS_selector.ipynb\" target=\"_parent\"><img src=\"https://colab.research.google.com/assets/colab-badge.svg\" alt=\"Open In Colab\"/></a>"
      ]
    },
    {
      "cell_type": "markdown",
      "source": [
        "# Система Selector\n",
        "\n"
      ],
      "metadata": {
        "id": "BWewZvPLDHMv"
      }
    },
    {
      "cell_type": "markdown",
      "source": [
        "## Импорт библиотек"
      ],
      "metadata": {
        "id": "5R18TsGpDXzH"
      }
    },
    {
      "cell_type": "code",
      "execution_count": 22,
      "metadata": {
        "id": "YOkmra1mDGG1"
      },
      "outputs": [],
      "source": [
        "# Для операций с тензорами\n",
        "import numpy as np\n",
        "\n",
        "# Для отрисвоки\n",
        "import matplotlib.pyplot as plt\n",
        "\n",
        "# Для создания модели\n",
        "from tensorflow.keras.models import Model\n",
        "\n",
        "# Необходимые слои\n",
        "from tensorflow.keras.layers import Input, Conv2DTranspose, MaxPooling2D, Conv2D, BatchNormalization\n",
        "\n",
        "# Слои для латентного пространства модели\n",
        "from tensorflow.keras.layers import Flatten, Reshape, Dense\n",
        "\n",
        "# Оптимизатор\n",
        "from tensorflow.keras.optimizers import Adam\n",
        "\n",
        "# Для загрузки базы\n",
        "from tensorflow.keras.datasets import mnist\n",
        "\n",
        "from google.colab import drive # Для работы с Google Drive\n",
        "from google.colab import files # Для работы с файлами \n",
        "from distutils.dir_util import copy_tree\n",
        "import contextlib\n",
        "import shutil\n",
        "import os\n",
        "from PIL import Image\n",
        "\n",
        "from sklearn.preprocessing import LabelEncoder\n",
        "from tensorflow.keras.utils import to_categorical\n",
        "\n",
        "# Разбиение на тренировочную и тестовую выборки\n",
        "from sklearn.model_selection import train_test_split "
      ]
    },
    {
      "cell_type": "markdown",
      "source": [
        "## Загрузка данных"
      ],
      "metadata": {
        "id": "FQuC9WaUDgWK"
      }
    },
    {
      "cell_type": "code",
      "source": [
        "drive.mount('/content/drive/')"
      ],
      "metadata": {
        "colab": {
          "base_uri": "https://localhost:8080/"
        },
        "id": "NgCGAXYQDc1z",
        "outputId": "6abadf7e-793e-452e-d5b4-99a36d791b41"
      },
      "execution_count": 2,
      "outputs": [
        {
          "output_type": "stream",
          "name": "stdout",
          "text": [
            "Mounted at /content/drive/\n"
          ]
        }
      ]
    },
    {
      "cell_type": "code",
      "source": [
        "!rm -R '/content/selector/' # Проверяем наличие папки selector. Если есть, удаляем ее"
      ],
      "metadata": {
        "id": "EYxcreqJLIAb"
      },
      "execution_count": 6,
      "outputs": []
    },
    {
      "cell_type": "code",
      "source": [
        "# Проверяем, существует ли папка\n",
        "if not os.path.exists('/content/selector'):\n",
        "    # Создаем папку\n",
        "    os.makedirs('/content/selector')"
      ],
      "metadata": {
        "id": "91zrTffwkpJe"
      },
      "execution_count": 7,
      "outputs": []
    },
    {
      "cell_type": "code",
      "source": [
        "# Указываем путь к базе в Google Drive, создаем папку и извлекаем туда базу\n",
        "!unzip -q '/content/drive/MyDrive/ai/Base/dataset.zip' -d '/content/selector'"
      ],
      "metadata": {
        "id": "Xue4gp9PLe1I"
      },
      "execution_count": 8,
      "outputs": []
    },
    {
      "cell_type": "code",
      "source": [
        "# Используем shutil\n",
        "#shutil.copytree(\"/content/drive/MyDrive/trousers_men_true_1967\", \"/content/selector/dataset/trousers_men\")\n",
        "shutil.copytree(\"/content/drive/MyDrive/t-shirt_men_true_984\", \"/content/selector/dataset/t-shirt_men\")"
      ],
      "metadata": {
        "colab": {
          "base_uri": "https://localhost:8080/",
          "height": 35
        },
        "id": "3qkJAqQGOfwn",
        "outputId": "1bf8163a-9cc3-480a-8619-f0089d14fa6f"
      },
      "execution_count": null,
      "outputs": [
        {
          "output_type": "execute_result",
          "data": {
            "text/plain": [
              "'/content/selector/dataset/t-shirt_men'"
            ],
            "application/vnd.google.colaboratory.intrinsic+json": {
              "type": "string"
            }
          },
          "metadata": {},
          "execution_count": 30
        }
      ]
    },
    {
      "cell_type": "code",
      "source": [
        "# Открываем изображение\n",
        "img = Image.open(\"/content/selector/dataset/trousers_men/1008.jpg\")\n",
        "\n",
        "# Получаем размеры изображения\n",
        "width, height = img.size\n",
        "\n",
        "# Получаем количество каналов\n",
        "channels = img.getbands()\n",
        "\n",
        "# Выводим информацию об изображении\n",
        "print(f\"Ширина: {width}, Высота: {height}\")\n",
        "print(f\"Количество каналов: {len(channels)}\")"
      ],
      "metadata": {
        "colab": {
          "base_uri": "https://localhost:8080/"
        },
        "id": "GlejxXFL3RJo",
        "outputId": "ed724497-c133-48ba-e154-1a132ba60284"
      },
      "execution_count": null,
      "outputs": [
        {
          "output_type": "stream",
          "name": "stdout",
          "text": [
            "Ширина: 1200, Высота: 1800\n",
            "Количество каналов: 3\n"
          ]
        }
      ]
    },
    {
      "cell_type": "code",
      "source": [
        "FILE_DIR  = '/content/selector/dataset'\n",
        "dir_list = os.listdir(FILE_DIR)\n",
        "print(dir_list)"
      ],
      "metadata": {
        "colab": {
          "base_uri": "https://localhost:8080/"
        },
        "id": "GUpgh4IjuUd0",
        "outputId": "3aa617c2-3e11-44a4-90b7-9de789df427d"
      },
      "execution_count": 11,
      "outputs": [
        {
          "output_type": "stream",
          "name": "stdout",
          "text": [
            "['sportswear men', 't-shirt women', 'dress solemn', 'dress casual', 'dress homemade', 'trousers men', 'sportswear women', 'shirt men', 'trousers women', 'dress  business', 't-shirt men', 'shirt women']\n"
          ]
        }
      ]
    },
    {
      "cell_type": "code",
      "source": [
        "# Изменяем размер изображения до 200х200\n",
        "IMG_WIDTH = 200\n",
        "IMG_HEIGHT = 200\n",
        "\n",
        "# Переменные для отслеживания текущей папки и количества обработанных изображений\n",
        "current_folder = \"\"\n",
        "processed_images = 0\n",
        "\n",
        "# Проходим по папкам и файлам внутри каталога\n",
        "for root, dirs, files in os.walk(FILE_DIR):\n",
        "    for filename in files:\n",
        "        # Полный путь к файлу\n",
        "        file_path = os.path.join(root, filename)\n",
        "\n",
        "        # Проверяем, является ли файл изображением\n",
        "        if filename.endswith((\".jpg\", \".jpeg\", \".png\")):\n",
        "            # Открываем изображение, изменяем его размер и преобразуем в оттенки серого\n",
        "            img = Image.open(file_path).resize((IMG_WIDTH, IMG_HEIGHT)).convert(\"L\")\n",
        "\n",
        "            # Сохраняем измененное изображение обратно\n",
        "            img.save(file_path)\n",
        "\n",
        "            # Увеличиваем счетчик обработанных изображений в текущей папке\n",
        "            processed_images += 1\n",
        "\n",
        "\n",
        "    # Выводим сообщение после обработки каждой папки\n",
        "    if current_folder != root:\n",
        "        if current_folder:\n",
        "            print(f\"Папка {current_folder} обработана. Количество обработанных изображений: {processed_images}\")\n",
        "        current_folder = root\n",
        "        processed_images = 0\n",
        "\n",
        "# Выводим сообщение для последней обработанной папки\n",
        "if current_folder:\n",
        "    print(f\"Папка {current_folder} обработана. Количество обработанных изображений: {processed_images}\")"
      ],
      "metadata": {
        "colab": {
          "base_uri": "https://localhost:8080/"
        },
        "id": "oDPnHHZF3xrJ",
        "outputId": "53c95063-f9de-40ea-dd84-ec86b0471e27"
      },
      "execution_count": 13,
      "outputs": [
        {
          "output_type": "stream",
          "name": "stdout",
          "text": [
            "Папка /content/selector/dataset обработана. Количество обработанных изображений: 904\n",
            "Папка /content/selector/dataset/sportswear men обработана. Количество обработанных изображений: 1171\n",
            "Папка /content/selector/dataset/t-shirt women обработана. Количество обработанных изображений: 638\n",
            "Папка /content/selector/dataset/dress solemn обработана. Количество обработанных изображений: 805\n",
            "Папка /content/selector/dataset/dress casual обработана. Количество обработанных изображений: 974\n",
            "Папка /content/selector/dataset/dress homemade обработана. Количество обработанных изображений: 1780\n",
            "Папка /content/selector/dataset/trousers men обработана. Количество обработанных изображений: 714\n"
          ]
        },
        {
          "output_type": "stream",
          "name": "stderr",
          "text": [
            "/usr/local/lib/python3.10/dist-packages/PIL/Image.py:975: UserWarning: Palette images with Transparency expressed in bytes should be converted to RGBA images\n",
            "  warnings.warn(\n"
          ]
        },
        {
          "output_type": "stream",
          "name": "stdout",
          "text": [
            "Папка /content/selector/dataset/sportswear women обработана. Количество обработанных изображений: 2863\n",
            "Папка /content/selector/dataset/shirt men обработана. Количество обработанных изображений: 986\n",
            "Папка /content/selector/dataset/trousers women обработана. Количество обработанных изображений: 463\n",
            "Папка /content/selector/dataset/dress  business обработана. Количество обработанных изображений: 1069\n",
            "Папка /content/selector/dataset/t-shirt men обработана. Количество обработанных изображений: 1033\n",
            "Папка /content/selector/dataset/shirt women обработана. Количество обработанных изображений: 0\n"
          ]
        }
      ]
    },
    {
      "cell_type": "code",
      "source": [
        "# Путь к папке, которую нужно архивировать\n",
        "source_folder = \"/content/selector/dataset\"\n",
        "\n",
        "# Путь к папке, в которую нужно скопировать архив\n",
        "destination_folder = \"/content/drive/MyDrive/ai/Base/\"\n",
        "\n",
        "# Имя архива\n",
        "archive_name = \"dataset_conv.zip\"\n",
        "\n",
        "# Архивируем папку\n",
        "shutil.make_archive(\"/content/selector/dataset_conv\", \"zip\", source_folder)\n",
        "\n",
        "# Копируем архив в другую папку\n",
        "shutil.copy(\"/content/selector/dataset_conv.zip\", f\"{destination_folder}/{archive_name}\")"
      ],
      "metadata": {
        "colab": {
          "base_uri": "https://localhost:8080/",
          "height": 35
        },
        "id": "Uq-i3Tw29O3a",
        "outputId": "a583cbc1-d4a7-4c88-c6b7-b0b5d53df964"
      },
      "execution_count": 16,
      "outputs": [
        {
          "output_type": "execute_result",
          "data": {
            "text/plain": [
              "'/content/drive/MyDrive/ai/Base//dataset_conv.zip'"
            ],
            "application/vnd.google.colaboratory.intrinsic+json": {
              "type": "string"
            }
          },
          "metadata": {},
          "execution_count": 16
        }
      ]
    },
    {
      "cell_type": "code",
      "source": [
        "# Инициализация списков для хранения изображений и меток классов\n",
        "x_data = []\n",
        "y_data = []\n",
        "\n",
        "# Проходим по папкам и файлам внутри каталога\n",
        "for root, dirs, files in os.walk(FILE_DIR):\n",
        "    for filename in files:\n",
        "        # Полный путь к файлу\n",
        "        file_path = os.path.join(root, filename)\n",
        "\n",
        "        # Проверяем, является ли файл изображением\n",
        "        if filename.endswith((\".jpg\", \".jpeg\", \".png\")):\n",
        "\n",
        "            # Преобразуем изображение в массив numpy\n",
        "            img_array = np.array(img)\n",
        "\n",
        "            # Добавляем изображение в список x_train\n",
        "            x_data.append(img_array)\n",
        "\n",
        "            # Получаем метку класса из имени папки, в которой находится файл\n",
        "            class_label = os.path.basename(root)\n",
        "\n",
        "            # Добавляем метку класса в список y_train\n",
        "            y_data.append(class_label)\n",
        "\n",
        "# Преобразуем списки в массивы numpy\n",
        "x_data = np.array(x_data)\n",
        "y_data = np.array(y_data)\n",
        "\n",
        "# Преобразуем метки классов в формат One-Hot Encoding\n",
        "label_encoder = LabelEncoder()\n",
        "y_data_encoded = label_encoder.fit_transform(y_data)\n",
        "y_data_onehot = to_categorical(y_data_encoded)\n",
        "\n",
        "# Выводим размеры массивов x_train и y_train_onehot\n",
        "print(\"Размеры x_data:\", x_data.shape)\n",
        "print(\"Размеры y_data_onehot:\", y_data_onehot.shape)"
      ],
      "metadata": {
        "colab": {
          "base_uri": "https://localhost:8080/"
        },
        "id": "70SJswjfDH-C",
        "outputId": "d5246805-e2dd-44c6-b884-5b0318ee30b4"
      },
      "execution_count": 27,
      "outputs": [
        {
          "output_type": "stream",
          "name": "stdout",
          "text": [
            "Размеры x_data: (13400, 200, 200)\n",
            "Размеры y_data_onehot: (13400, 12)\n"
          ]
        }
      ]
    },
    {
      "cell_type": "code",
      "source": [
        "x_train, x_test, y_train, y_test = train_test_split(x_data, # набор параметров\n",
        "                                                    y_data_onehot, # набор меток классов\n",
        "                                                    test_size=0.2, # процент в тестовую\n",
        "                                                    shuffle=True, #  перемешивание\n",
        "                                                    random_state=3) # воспроизводимость\n"
      ],
      "metadata": {
        "id": "KgnkdxSq1vLy"
      },
      "execution_count": 28,
      "outputs": []
    },
    {
      "cell_type": "code",
      "source": [
        "plt.imshow(x_train[109], cmap='gray')  # cmap='gray' используется для отображения изображения в оттенках серого\n",
        "plt.show()"
      ],
      "metadata": {
        "colab": {
          "base_uri": "https://localhost:8080/",
          "height": 434
        },
        "id": "i7YN8sMF9vFL",
        "outputId": "985ca083-3fd9-4928-b710-8ea59a5105b0"
      },
      "execution_count": 29,
      "outputs": [
        {
          "output_type": "display_data",
          "data": {
            "text/plain": [
              "<Figure size 640x480 with 1 Axes>"
            ],
            "image/png": "[encoded data removed]"
          },
          "metadata": {}
        }
      ]
    },
    {
      "cell_type": "markdown",
      "source": [
        "# Автокодировщик"
      ],
      "metadata": {
        "id": "P4LnpvFs-YP9"
      }
    },
    {
      "cell_type": "code",
      "source": [
        "def create_dense_ae():\n",
        "    # Размерность кодированного представления\n",
        "    encoding_dim = 49\n",
        "\n",
        "    # Энкодер\n",
        "    # Входной плейсхолдер\n",
        "    input_img = Input(shape=(200, 200, 1)) # 200, 200, 1 - размерности строк, столбцов, фильтров одной картинки, без батч-размерности\n",
        "    # Вспомогательный слой решейпинга\n",
        "    flat_img = Flatten()(input_img)\n",
        "    # Кодированное полносвязным слоем представление\n",
        "    encoded = Dense(encoding_dim, activation='relu')(flat_img)\n",
        "    \n",
        "    # Декодер\n",
        "    # Раскодированное другим полносвязным слоем изображение\n",
        "    input_encoded = Input(shape=(encoding_dim,))\n",
        "    flat_decoded = Dense(200*200, activation='sigmoid')(input_encoded)\n",
        "    decoded = Reshape((200, 200, 1))(flat_decoded)\n",
        "\n",
        "    # Модели, в конструктор первым аргументом передаются входные слои, а вторым выходные слои\n",
        "    # Другие модели можно так же использовать как и слои\n",
        "    encoder = Model(input_img, encoded, name=\"encoder\")\n",
        "    decoder = Model(input_encoded, decoded, name=\"decoder\")\n",
        "    autoencoder = Model(input_img, decoder(encoder(input_img)), name=\"autoencoder\")\n",
        "    return encoder, decoder, autoencoder"
      ],
      "metadata": {
        "id": "5PqMiVXG_E5E"
      },
      "execution_count": null,
      "outputs": []
    },
    {
      "cell_type": "code",
      "source": [
        "encoder, decoder, autoencoder = create_dense_ae()\n",
        "autoencoder.compile(optimizer='adam', loss='binary_crossentropy')"
      ],
      "metadata": {
        "id": "CmMNSniJCK3s"
      },
      "execution_count": null,
      "outputs": []
    },
    {
      "cell_type": "code",
      "source": [
        "history = autoencoder.fit(X_train, X_train,\n",
        "                       epochs=10,\n",
        "                       batch_size=256,\n",
        "                       callbacks=[ae_callback],\n",
        "                       validation_data=(X_test, X_test))"
      ],
      "metadata": {
        "id": "-6xhtJXck26i"
      },
      "execution_count": null,
      "outputs": []
    }
  ]
}