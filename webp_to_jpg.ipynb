{
  "nbformat": 4,
  "nbformat_minor": 0,
  "metadata": {
    "colab": {
      "provenance": [],
      "authorship_tag": "ABX9TyOfRYMKGuawp8iPLruTabxt",
      "include_colab_link": true
    },
    "kernelspec": {
      "name": "python3",
      "display_name": "Python 3"
    },
    "language_info": {
      "name": "python"
    },
    "gpuClass": "standard"
  },
  "cells": [
    {
      "cell_type": "markdown",
      "metadata": {
        "id": "view-in-github",
        "colab_type": "text"
      },
      "source": [
        "<a href=\"https://colab.research.google.com/github/Untick/Selector_ObjDet/blob/Trokhachev-Anton-folder/webp_to_jpg.ipynb\" target=\"_parent\"><img src=\"https://colab.research.google.com/assets/colab-badge.svg\" alt=\"Open In Colab\"/></a>"
      ]
    },
    {
      "cell_type": "code",
      "execution_count": null,
      "metadata": {
        "id": "x1eOMqcIoBCd"
      },
      "outputs": [],
      "source": [
        "import gdown\n",
        "import os\n",
        "from PIL import Image\n",
        "import re\n",
        "gdown.download('https://storage.yandexcloud.net/terratraineeship/23_Selector_newbies/datasets/processed%20extended%20dataset%203.zip', None, quiet=True)\n",
        "!unzip -qq -o processed%20extended%20dataset%203.zip -d dataset/"
      ]
    },
    {
      "cell_type": "code",
      "source": [
        "path = 'dataset/processed extended dataset 3/' #>>>прописать путь до каталога с каталогами одежды\n",
        "\n",
        "pattern = '.*(?=\\.)'\n",
        "dir_list = os.listdir(path)\n",
        "if not os.path.isdir(\"dataset_new\"):\n",
        "     os.mkdir(\"dataset_new\")\n",
        "for i in dir_list:\n",
        "    if not os.path.isdir(f'dataset_new/{i}'):\n",
        "        os.mkdir(f'dataset_new/{i}')\n",
        "    fl = os.listdir(f'{path}/{i}')\n",
        "    for i2 in fl:   #>>>Если нужна неполная версия датасета, заменяем на fl[50] для 50 файлов в каждом каталоге\n",
        "        fn = re.match(pattern, i2)\n",
        "        img = f'{path}/{i}/{i2}'\n",
        "        try:\n",
        "            im = Image.open(img).convert(\"RGB\")\n",
        "        except:\n",
        "            print(f'При обработке файла {i}/{i2} произошла ошибка. Файл не читается.')\n",
        "            pass\n",
        "        if not os.path.isfile(f'dataset_new/{i}/{fn.group(0)}.jpg'):\n",
        "            im.save(f'dataset_new/{i}/{fn.group(0)}.jpg', 'jpeg')\n",
        "        else:\n",
        "            im.save(f'dataset_new/{i}/{fn.group(0)}ren545.jpg', 'jpeg')\n",
        "        os.remove(f'{path}/{i}/{i2}')"
      ],
      "metadata": {
        "id": "ISY_pG-3Gob-"
      },
      "execution_count": null,
      "outputs": []
    }
  ]
}